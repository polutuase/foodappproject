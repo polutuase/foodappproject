{
  "cells": [
    {
      "cell_type": "code",
      "execution_count": null,
      "metadata": {
        "id": "e7f23836-7a4f-4072-a601-ea013427cea6"
      },
      "outputs": [],
      "source": [
        "#PLEASE DO NOT MODIFY THIS CELL\n",
        "\n",
        "import unittest\n",
        "from unittest.mock import patch"
      ],
      "id": "e7f23836-7a4f-4072-a601-ea013427cea6"
    },
    {
      "cell_type": "markdown",
      "metadata": {
        "id": "a0dbd208-2656-4fea-907d-91d887f48ab0"
      },
      "source": [
        "# First Semester Project\n",
        "## Food Ordering Application\n",
        "A food vendor has approached you build a simple app to help theirs users order food.\n",
        "The vendor sells the following food items\n",
        "* Pizza at 6500 Naira\n",
        "* Burger at 3000 Naira\n",
        "* Noodles at 1300 Naira\n",
        "\n",
        "Write the code for each of these functions to accurately capture a users order and display a receipt to the user.\n",
        "\n",
        "NOTE: Users can order multiple items in different quantities"
      ],
      "id": "a0dbd208-2656-4fea-907d-91d887f48ab0"
    },
    {
      "cell_type": "markdown",
      "metadata": {
        "id": "1648e999-d1ed-41c7-a349-d87d40f81bbc"
      },
      "source": [
        "## INSTRUCTIONS\n",
        "* Only type in the areas where you see the comment **\"#Your Code Here\"**.\n",
        "* Delete this line **\"raise NotImplementedError()\"** you will find it directly under the **\"#Your code here\"** comment.\n",
        "* Rename the file to the email you used in registering for this course.\n",
        "* Do not delete any cells or change what is written in them except for the cells that you are supposed to write on.\n",
        "* This project is worth 30 Marks so take it seriously and adhere strictly to the instructions."
      ],
      "id": "1648e999-d1ed-41c7-a349-d87d40f81bbc"
    },
    {
      "cell_type": "code",
      "execution_count": null,
      "metadata": {
        "id": "5d16abee-708f-4d4f-8970-ebffea88f7a2"
      },
      "outputs": [],
      "source": [
        "#PLEASE DO NOT MODIFY THIS CELL\n",
        "\n",
        "def display_menu():\n",
        "    \"\"\"\n",
        "    Description: Prints the menu options for the food items available in the ordering app.\n",
        "                 since the app only has 3 food items you can order we add a fourth option to exit\n",
        "                 the menu when they are done ordering.\n",
        "    \"\"\"\n",
        "    print(\"Menu:\")\n",
        "    print(\"1. Pizza - 6500\")\n",
        "    print(\"2. Burger - 3000\")\n",
        "    print(\"3. Noodles - 1300\")\n",
        "    print(\"4. Exit Menu\")"
      ],
      "id": "5d16abee-708f-4d4f-8970-ebffea88f7a2"
    },
    {
      "cell_type": "code",
      "execution_count": null,
      "metadata": {
        "id": "25eb9bef-a717-4532-bdca-b1cef105079c"
      },
      "outputs": [],
      "source": [
        "def get_user_choice():\n",
        "    \"\"\"\n",
        "    Description: Takes user input to get the number corresponding to the chosen food item from the menu.\n",
        "                 Ensures the input is a valid choice between 1 and 4.\n",
        "\n",
        "                 If the user types a valid number that is not between 1 and 4, return the ERROR\n",
        "    \"\"\"\n",
        "    while True:\n",
        "      try:\n",
        "        choice = int(input(\"Enter the number of the food item you want to order (1-4): \"))\n",
        "        if 1 <= choice <= 3:\n",
        "          return choice\n",
        "        elif choice == 4:\n",
        "          print(\"None\")\n",
        "          return None\n",
        "        else:\n",
        "          print(\"ERROR: Please enter a valid number between 1 and 4.\")\n",
        "      except ValueError:\n",
        "        print(\"ERROR: Please enter a valid integer.\")\n",
        "\n"
      ],
      "id": "25eb9bef-a717-4532-bdca-b1cef105079c"
    },
    {
      "cell_type": "code",
      "execution_count": null,
      "metadata": {
        "colab": {
          "base_uri": "https://localhost:8080/"
        },
        "id": "b91a2e91-2e4d-49fe-8d97-b998a19b2ab3",
        "outputId": "9fd176ea-e2f0-4c83-f471-b70b769d3f22"
      },
      "outputs": [
        {
          "name": "stdout",
          "output_type": "stream",
          "text": [
            "ERROR: Please enter a valid integer.\n",
            "ERROR: Please enter a valid number between 1 and 4.\n",
            "None\n"
          ]
        }
      ],
      "source": [
        "#PLEASE DO NOT MODIFY THIS CELL\n",
        "\n",
        "class TestGetUserChoice(unittest.TestCase):\n",
        "    @patch('builtins.input', side_effect=['1'])\n",
        "    def test_valid_choice(self, mock_input):\n",
        "        result = get_user_choice()\n",
        "        self.assertEqual(result, 1)\n",
        "\n",
        "    @patch('builtins.input', side_effect=['invalid', '3'])\n",
        "    def test_invalid_then_valid_choice(self, mock_input):\n",
        "        result = get_user_choice()\n",
        "        self.assertEqual(result, 3)\n",
        "\n",
        "    @patch('builtins.input', side_effect=['5', '4'])\n",
        "    def test_invalid_then_exit_choice(self, mock_input):\n",
        "        result = get_user_choice()\n",
        "        self.assertIsNone(result)\n",
        "\n",
        "tester = TestGetUserChoice()\n",
        "tester.test_valid_choice()\n",
        "tester.test_invalid_then_valid_choice()\n",
        "tester.test_invalid_then_exit_choice()"
      ],
      "id": "b91a2e91-2e4d-49fe-8d97-b998a19b2ab3"
    },
    {
      "cell_type": "code",
      "execution_count": null,
      "metadata": {
        "id": "d2051f24-e669-473d-9c6b-fc83d3868545"
      },
      "outputs": [],
      "source": [
        "def get_quantity():\n",
        "\n",
        "\n",
        "    \"\"\"\n",
        "    Description: Takes user input to get the quantity of the selected food item.\n",
        "                 and ensures the input is a positive integer.\n",
        "    \"\"\"\n",
        "    while True:\n",
        "      try:\n",
        "        quantity = int(input(\"Enter the quantity you want to order: \"))\n",
        "        if quantity > 0:\n",
        "          return quantity\n",
        "        else:\n",
        "          print(\"ERROR: Please enter a positive integer for the quantity.\")\n",
        "      except ValueError:\n",
        "        print(\"ERROR: Please enter a valid integer for the quantity.\")"
      ],
      "id": "d2051f24-e669-473d-9c6b-fc83d3868545"
    },
    {
      "cell_type": "code",
      "execution_count": null,
      "metadata": {
        "colab": {
          "base_uri": "https://localhost:8080/"
        },
        "id": "26b94430-a2e5-4418-95c4-a7ecdf3dc877",
        "outputId": "db10e8d3-eb03-46e4-ca57-87f2d0bad05a"
      },
      "outputs": [
        {
          "name": "stdout",
          "output_type": "stream",
          "text": [
            "ERROR: Please enter a valid integer for the quantity.\n",
            "ERROR: Please enter a positive integer for the quantity.\n",
            "ERROR: Please enter a positive integer for the quantity.\n"
          ]
        }
      ],
      "source": [
        "#PLEASE DO NOT MODIFY THIS CELL\n",
        "\n",
        "class TestGetQuantity(unittest.TestCase):\n",
        "    @patch('builtins.input', side_effect=['3'])\n",
        "    def test_valid_quantity(self, mock_input):\n",
        "        result = get_quantity()\n",
        "        self.assertEqual(result, 3)\n",
        "\n",
        "    @patch('builtins.input', side_effect=['invalid', '5'])\n",
        "    def test_invalid_then_valid_quantity(self, mock_input):\n",
        "        result = get_quantity()\n",
        "        self.assertEqual(result, 5)\n",
        "\n",
        "    @patch('builtins.input', side_effect=['0', '-2', '4'])\n",
        "    def test_invalid_then_valid_quantity_with_negative_input(self, mock_input):\n",
        "        result = get_quantity()\n",
        "        self.assertEqual(result, 4)\n",
        "\n",
        "tester = TestGetQuantity()\n",
        "tester.test_valid_quantity()\n",
        "tester.test_invalid_then_valid_quantity()\n",
        "tester.test_invalid_then_valid_quantity_with_negative_input()"
      ],
      "id": "26b94430-a2e5-4418-95c4-a7ecdf3dc877"
    },
    {
      "cell_type": "code",
      "execution_count": null,
      "metadata": {
        "id": "262d5901-5285-4926-b60c-2784ed5e8552"
      },
      "outputs": [],
      "source": [
        "def get_item_name(choice):\n",
        "    \"\"\"\n",
        "    Description: Retrieves and returns the name of a food item based on the user's choice from the menu.\n",
        "    \"\"\"\n",
        "    if choice == 1:\n",
        "      return \"Pizza\"\n",
        "    elif choice == 2:\n",
        "      return \"Burger\"\n",
        "    elif choice == 3:\n",
        "      return \"Noodles\"\n",
        "    else:\n",
        "      return \"None\""
      ],
      "id": "262d5901-5285-4926-b60c-2784ed5e8552"
    },
    {
      "cell_type": "code",
      "execution_count": null,
      "metadata": {
        "id": "1804c554-d55a-40fa-8aaf-8d28999ab1e1"
      },
      "outputs": [],
      "source": [
        "#PLEASE DO NOT MODIFY THIS CELL\n",
        "\n",
        "assert get_item_name(1) == 'Pizza'\n",
        "assert get_item_name(2) == 'Burger'\n",
        "assert get_item_name(3) == 'Noodles'"
      ],
      "id": "1804c554-d55a-40fa-8aaf-8d28999ab1e1"
    },
    {
      "cell_type": "code",
      "execution_count": null,
      "metadata": {
        "id": "f9d42bdc-6ad9-4acc-878e-cd67e915a0bc"
      },
      "outputs": [],
      "source": [
        "def get_item_price(choice):\n",
        "    \"\"\"\n",
        "    Description: Retrieves and returns the price of a food item based on the user's choice from the menu.\n",
        "    \"\"\"\n",
        "    if choice == 1:\n",
        "        return 6500  # Price for Pizza\n",
        "    elif choice == 2:\n",
        "        return 3000  # Price for Burger\n",
        "    elif choice == 3:\n",
        "        return 1300  # Price for Noodles\n",
        "    else:\n",
        "        return None"
      ],
      "id": "f9d42bdc-6ad9-4acc-878e-cd67e915a0bc"
    },
    {
      "cell_type": "code",
      "execution_count": null,
      "metadata": {
        "id": "728d8603-603f-425a-887c-207d6883d19b"
      },
      "outputs": [],
      "source": [
        "assert get_item_price(1) == 6500\n",
        "assert get_item_price(2) == 3000\n",
        "assert get_item_price(3) == 1300"
      ],
      "id": "728d8603-603f-425a-887c-207d6883d19b"
    },
    {
      "cell_type": "code",
      "execution_count": null,
      "metadata": {
        "id": "d8b1dcd4-1739-4084-b517-730b18f73d2f"
      },
      "outputs": [],
      "source": [
        "def calculate_total_price(item_price, quantity):\n",
        "    \"\"\"\n",
        "    Description: Calculates and returns the total price of a specific food item based on its price and the quantity ordered.\n",
        "    \"\"\"\n",
        "    total_price = item_price * quantity\n",
        "    return total_price"
      ],
      "id": "d8b1dcd4-1739-4084-b517-730b18f73d2f"
    },
    {
      "cell_type": "code",
      "execution_count": null,
      "metadata": {
        "id": "87a11122-0536-4d98-9656-16e6d6e27cc8"
      },
      "outputs": [],
      "source": [
        "#PLEASE DO NOT MODIFY THIS CELL\n",
        "\n",
        "assert calculate_total_price(5, 2) == 10"
      ],
      "id": "87a11122-0536-4d98-9656-16e6d6e27cc8"
    },
    {
      "cell_type": "code",
      "execution_count": null,
      "metadata": {
        "id": "ec82212d-6a86-4fb4-a37a-9102fb31f7c9"
      },
      "outputs": [],
      "source": [
        "def place_order():\n",
        "    \"\"\"\n",
        "    Description: Manages the process of adding items to a shopping cart.\n",
        "                 USE A DICTIONARY FOR THE CART.\n",
        "                 Calls other functions to get user choices, quantities, and calculates total prices.\n",
        "\n",
        "                 Your cart should look something like this assuming this user ordered 3 pizzas and 3 burgers.\n",
        "                 {\n",
        "                    'Pizza': {'quantity': 3, 'total_price': 19500},\n",
        "                    'Burger': {'quantity': 3, 'total_price': 9000}\n",
        "                 }\n",
        "    \"\"\"\n",
        "    Cart = {}\n",
        "\n",
        "    while True:\n",
        "      try:\n",
        "        choice = get_user_choice()\n",
        "\n",
        "        if choice == 4:\n",
        "          break\n",
        "\n",
        "        item_name = get_item_name(choice)\n",
        "        item_price = get_item_price(choice)\n",
        "        item_quantity = get_quantity()\n",
        "\n",
        "        total_price = calculate_total_price(item_price, item_quantity)\n",
        "\n",
        "        if total_price is not None:\n",
        "\n",
        "          if item_name in Cart:\n",
        "            Cart[item_name]['quantity'] += item_quantity\n",
        "            Cart[item_name]['total_price'] += total_price\n",
        "          else:\n",
        "            Cart[item_name] = {'quantity': item_quantity, 'total_price': total_price}\n",
        "          print(f\"{item_quantity} {item_name}(s) added to your cart.\")\n",
        "        else:\n",
        "          print(\"Invalid input.\")\n",
        "      except StopIteration:\n",
        "        break\n",
        "    return Cart\n"
      ],
      "id": "ec82212d-6a86-4fb4-a37a-9102fb31f7c9"
    },
    {
      "cell_type": "code",
      "execution_count": null,
      "metadata": {
        "colab": {
          "background_save": true,
          "base_uri": "https://localhost:8080/",
          "height": 477
        },
        "id": "5ae78f37-76f9-4e63-83d8-6af36a53e67f",
        "outputId": "7c75fa81-5510-4401-b0fa-de1ea3dfe6c5"
      },
      "outputs": [
        {
          "ename": "NameError",
          "evalue": "ignored",
          "output_type": "error",
          "traceback": [
            "\u001b[0;31m---------------------------------------------------------------------------\u001b[0m",
            "\u001b[0;31mNameError\u001b[0m                                 Traceback (most recent call last)",
            "\u001b[0;32m<ipython-input-20-c1a89598740f>\u001b[0m in \u001b[0;36m<cell line: 21>\u001b[0;34m()\u001b[0m\n\u001b[1;32m     19\u001b[0m \u001b[0;34m\u001b[0m\u001b[0m\n\u001b[1;32m     20\u001b[0m \u001b[0mtester\u001b[0m \u001b[0;34m=\u001b[0m \u001b[0mTestPlaceOrder\u001b[0m\u001b[0;34m(\u001b[0m\u001b[0;34m)\u001b[0m\u001b[0;34m\u001b[0m\u001b[0;34m\u001b[0m\u001b[0m\n\u001b[0;32m---> 21\u001b[0;31m \u001b[0mtester\u001b[0m\u001b[0;34m.\u001b[0m\u001b[0mtest_place_order\u001b[0m\u001b[0;34m(\u001b[0m\u001b[0;34m)\u001b[0m\u001b[0;34m\u001b[0m\u001b[0;34m\u001b[0m\u001b[0m\n\u001b[0m",
            "\u001b[0;32m/usr/lib/python3.10/unittest/mock.py\u001b[0m in \u001b[0;36mpatched\u001b[0;34m(*args, **keywargs)\u001b[0m\n\u001b[1;32m   1377\u001b[0m                                         \u001b[0margs\u001b[0m\u001b[0;34m,\u001b[0m\u001b[0;34m\u001b[0m\u001b[0;34m\u001b[0m\u001b[0m\n\u001b[1;32m   1378\u001b[0m                                         keywargs) as (newargs, newkeywargs):\n\u001b[0;32m-> 1379\u001b[0;31m                 \u001b[0;32mreturn\u001b[0m \u001b[0mfunc\u001b[0m\u001b[0;34m(\u001b[0m\u001b[0;34m*\u001b[0m\u001b[0mnewargs\u001b[0m\u001b[0;34m,\u001b[0m \u001b[0;34m**\u001b[0m\u001b[0mnewkeywargs\u001b[0m\u001b[0;34m)\u001b[0m\u001b[0;34m\u001b[0m\u001b[0;34m\u001b[0m\u001b[0m\n\u001b[0m\u001b[1;32m   1380\u001b[0m \u001b[0;34m\u001b[0m\u001b[0m\n\u001b[1;32m   1381\u001b[0m         \u001b[0mpatched\u001b[0m\u001b[0;34m.\u001b[0m\u001b[0mpatchings\u001b[0m \u001b[0;34m=\u001b[0m \u001b[0;34m[\u001b[0m\u001b[0mself\u001b[0m\u001b[0;34m]\u001b[0m\u001b[0;34m\u001b[0m\u001b[0;34m\u001b[0m\u001b[0m\n",
            "\u001b[0;32m<ipython-input-20-c1a89598740f>\u001b[0m in \u001b[0;36mtest_place_order\u001b[0;34m(self, mock_get_quantity, mock_get_user_choice)\u001b[0m\n\u001b[1;32m      5\u001b[0m     \u001b[0;34m@\u001b[0m\u001b[0mpatch\u001b[0m\u001b[0;34m(\u001b[0m\u001b[0;34m'__main__.get_quantity'\u001b[0m\u001b[0;34m,\u001b[0m \u001b[0mreturn_value\u001b[0m\u001b[0;34m=\u001b[0m\u001b[0;36m3\u001b[0m\u001b[0;34m)\u001b[0m\u001b[0;34m\u001b[0m\u001b[0;34m\u001b[0m\u001b[0m\n\u001b[1;32m      6\u001b[0m     \u001b[0;32mdef\u001b[0m \u001b[0mtest_place_order\u001b[0m\u001b[0;34m(\u001b[0m\u001b[0mself\u001b[0m\u001b[0;34m,\u001b[0m \u001b[0mmock_get_quantity\u001b[0m\u001b[0;34m,\u001b[0m \u001b[0mmock_get_user_choice\u001b[0m\u001b[0;34m)\u001b[0m\u001b[0;34m:\u001b[0m\u001b[0;34m\u001b[0m\u001b[0;34m\u001b[0m\u001b[0m\n\u001b[0;32m----> 7\u001b[0;31m         \u001b[0mresult\u001b[0m \u001b[0;34m=\u001b[0m \u001b[0mplace_order\u001b[0m\u001b[0;34m(\u001b[0m\u001b[0;34m)\u001b[0m\u001b[0;34m\u001b[0m\u001b[0;34m\u001b[0m\u001b[0m\n\u001b[0m\u001b[1;32m      8\u001b[0m \u001b[0;34m\u001b[0m\u001b[0m\n\u001b[1;32m      9\u001b[0m         \u001b[0;31m# Assertions based on the expected behavior of place_order\u001b[0m\u001b[0;34m\u001b[0m\u001b[0;34m\u001b[0m\u001b[0m\n",
            "\u001b[0;32m<ipython-input-19-71765a6af166>\u001b[0m in \u001b[0;36mplace_order\u001b[0;34m()\u001b[0m\n\u001b[1;32m     21\u001b[0m \u001b[0;34m\u001b[0m\u001b[0m\n\u001b[1;32m     22\u001b[0m         \u001b[0mitem_name\u001b[0m \u001b[0;34m=\u001b[0m \u001b[0mget_item_name\u001b[0m\u001b[0;34m(\u001b[0m\u001b[0mchoice\u001b[0m\u001b[0;34m)\u001b[0m\u001b[0;34m\u001b[0m\u001b[0;34m\u001b[0m\u001b[0m\n\u001b[0;32m---> 23\u001b[0;31m         \u001b[0mitem_price\u001b[0m \u001b[0;34m=\u001b[0m \u001b[0mget_item_price\u001b[0m\u001b[0;34m(\u001b[0m\u001b[0mchoice\u001b[0m\u001b[0;34m)\u001b[0m\u001b[0;34m\u001b[0m\u001b[0;34m\u001b[0m\u001b[0m\n\u001b[0m\u001b[1;32m     24\u001b[0m         \u001b[0mitem_quantity\u001b[0m \u001b[0;34m=\u001b[0m \u001b[0mget_quantity\u001b[0m\u001b[0;34m(\u001b[0m\u001b[0;34m)\u001b[0m\u001b[0;34m\u001b[0m\u001b[0;34m\u001b[0m\u001b[0m\n\u001b[1;32m     25\u001b[0m \u001b[0;34m\u001b[0m\u001b[0m\n",
            "\u001b[0;31mNameError\u001b[0m: name 'get_item_price' is not defined"
          ]
        }
      ],
      "source": [
        "#PLEASE DO NOT MODIFY THIS CELL\n",
        "\n",
        "class TestPlaceOrder(unittest.TestCase):\n",
        "    @patch('__main__.get_user_choice', side_effect=[1, 2, None])\n",
        "    @patch('__main__.get_quantity', return_value=3)\n",
        "    def test_place_order(self, mock_get_quantity, mock_get_user_choice):\n",
        "        result = place_order()\n",
        "\n",
        "        # Assertions based on the expected behavior of place_order\n",
        "        expected_result = {'Pizza': {'quantity': 3, 'total_price': 19500},\n",
        "                           'Burger': {'quantity': 3, 'total_price': 9000}}\n",
        "        self.assertEqual(result, expected_result)\n",
        "\n",
        "        # Check that get_user_choice was called three times\n",
        "        self.assertEqual(mock_get_user_choice.call_count, 3)\n",
        "\n",
        "        # Check that get_quantity was called twice (for the two items added)\n",
        "        self.assertEqual(mock_get_quantity.call_count, 2)\n",
        "\n",
        "tester = TestPlaceOrder()\n",
        "tester.test_place_order()"
      ],
      "id": "5ae78f37-76f9-4e63-83d8-6af36a53e67f"
    },
    {
      "cell_type": "code",
      "execution_count": null,
      "metadata": {
        "id": "a5370336-ca99-4968-b950-2032e5d2e6c9"
      },
      "outputs": [],
      "source": [
        "def check_out(cart):\n",
        "    \"\"\"\n",
        "    Description: Finalizes the order by displaying the contents of the shopping cart, including quantities and total prices.\n",
        "                 Prints the total order price like a receipt.\n",
        "\n",
        "                 The reciept would look like this if the cart is empty\n",
        "\n",
        "                     Your cart is empty. No items to check out.\n",
        "\n",
        "\n",
        "                 If the Cart is has items in it then the receipt should look like this\n",
        "\n",
        "                     Checking out...\n",
        "                     Your order details:\n",
        "                     Item 1: Quantity - 2, Total Price - $20\n",
        "                     Item 2: Quantity - 3, Total Price - $15\n",
        "                     Total Order Price: $35\n",
        "                     Thank you for ordering!\n",
        "    \"\"\"\n",
        "    # YOUR CODE HERE\n",
        "    raise NotImplementedError()"
      ],
      "id": "a5370336-ca99-4968-b950-2032e5d2e6c9"
    },
    {
      "cell_type": "code",
      "execution_count": null,
      "metadata": {
        "id": "17b0205f-5d1a-465e-8906-f14d3aa03740"
      },
      "outputs": [],
      "source": [
        "#PLEASE DO NOT MODIFY THIS CELL\n",
        "\n",
        "class TestCheckOut(unittest.TestCase):\n",
        "    @patch('builtins.print')\n",
        "    def test_check_out_empty_cart(self, mock_print):\n",
        "        cart = {}\n",
        "        check_out(cart)\n",
        "        mock_print.assert_called_with(\"Your cart is empty. No items to check out.\")\n",
        "\n",
        "    @patch('builtins.print')\n",
        "    def test_check_out_non_empty_cart(self, mock_print):\n",
        "        cart = {\n",
        "            'Item 1': {'quantity': 2, 'total_price': 20},\n",
        "            'Item 2': {'quantity': 3, 'total_price': 15}\n",
        "        }\n",
        "        check_out(cart)\n",
        "\n",
        "        # Verify that the expected output was printed\n",
        "        expected_output = [\n",
        "            \"Checking out...\",\n",
        "            \"Your order details:\",\n",
        "            \"Item 1: Quantity - 2, Total Price - $20\",\n",
        "            \"Item 2: Quantity - 3, Total Price - $15\",\n",
        "            \"Total Order Price: $35\",\n",
        "            \"Thank you for ordering!\"\n",
        "        ]\n",
        "        calls = [unittest.mock.call(output) for output in expected_output]\n",
        "        mock_print.assert_has_calls(calls, any_order=False)\n",
        "\n",
        "tester = TestCheckOut()\n",
        "tester.test_check_out_empty_cart()\n",
        "tester.test_check_out_non_empty_cart()"
      ],
      "id": "17b0205f-5d1a-465e-8906-f14d3aa03740"
    },
    {
      "cell_type": "code",
      "execution_count": null,
      "metadata": {
        "id": "1230d66a-6384-4ec3-9939-774eb2420156"
      },
      "outputs": [],
      "source": [
        "#PLEASE DO NOT MODIFY THIS CELL\n",
        "\n",
        "def food_ordering_app():\n",
        "    \"\"\"\n",
        "    Description: The main function that initiates the food ordering application.\n",
        "                 Calls place_order() to build the shopping cart and then calls check_out() to complete the order.\n",
        "\n",
        "                 NOTE THAT IF ANY OF THE OTHER FUNCTIONS ARE NOT CORRECTLY WRITTEN THIS WILL FAIL\n",
        "                 PLEASE DO NOT MODIFY THIS CELL\n",
        "    \"\"\"\n",
        "    print(\"Welcome to the Food Ordering App!\")\n",
        "    cart = place_order()\n",
        "    check_out(cart)"
      ],
      "id": "1230d66a-6384-4ec3-9939-774eb2420156"
    },
    {
      "cell_type": "code",
      "execution_count": null,
      "metadata": {
        "id": "f82b0ff1-7e23-4970-a5c3-a67b9ce14665"
      },
      "outputs": [],
      "source": [
        "#PLEASE DO NOT MODIFY THIS CELL\n",
        "\n",
        "class TestFoodOrderingApp(unittest.TestCase):\n",
        "    @patch('builtins.print')\n",
        "    @patch('__main__.place_order', return_value={'Item 1': {'quantity': 2, 'total_price': 20}})\n",
        "    @patch('__main__.check_out')\n",
        "    def test_food_ordering_app(self, mock_check_out, mock_place_order, mock_print):\n",
        "        food_ordering_app()\n",
        "\n",
        "        # Verify that the expected calls were made\n",
        "        mock_print.assert_called_with(\"Welcome to the Food Ordering App!\")\n",
        "        mock_place_order.assert_called_once()\n",
        "        mock_check_out.assert_called_once()\n",
        "\n",
        "tester = TestFoodOrderingApp()\n",
        "tester.test_food_ordering_app()"
      ],
      "id": "f82b0ff1-7e23-4970-a5c3-a67b9ce14665"
    }
  ],
  "metadata": {
    "colab": {
      "provenance": []
    },
    "kernelspec": {
      "display_name": "Python 3 (ipykernel)",
      "language": "python",
      "name": "python3"
    },
    "language_info": {
      "codemirror_mode": {
        "name": "ipython",
        "version": 3
      },
      "file_extension": ".py",
      "mimetype": "text/x-python",
      "name": "python",
      "nbconvert_exporter": "python",
      "pygments_lexer": "ipython3",
      "version": "3.10.12"
    }
  },
  "nbformat": 4,
  "nbformat_minor": 5
}